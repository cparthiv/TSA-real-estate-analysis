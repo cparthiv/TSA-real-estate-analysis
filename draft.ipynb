{
 "cells": [
  {
   "metadata": {},
   "cell_type": "markdown",
   "source": "Question to work around: How do infrastructure projects like light rail, public transit, and schools influence housing, home prices, and the population in surrounding areas?",
   "id": "d2f76219f5321d94"
  },
  {
   "metadata": {},
   "cell_type": "markdown",
   "source": [
    "## Case Study: King County\n",
    "How do infrastructure developments in King County (e.g., light rail expansions, road improvements, broadband rollouts) impact housing prices, sales volume, and development patterns?\n",
    "Scope:\n",
    "- Time Period: 2010–Present (to capture before-and-after effects of major projects).\n",
    "- Geography: King County neighborhoods, categorized as urban (e.g., Seattle), suburban (e.g., Bellevue), and exurban (e.g., Issaquah, North Bend).\n",
    "\n",
    "Key Projects:\n",
    "- Sound Transit expansions (e.g., Link Light Rail).\n",
    "- SR-520 bridge tolling/expansion.\n",
    "- Broadband infrastructure investments in underserved areas. "
   ],
   "id": "9f5ce548f950c676"
  },
  {
   "metadata": {},
   "cell_type": "code",
   "outputs": [],
   "execution_count": null,
   "source": "",
   "id": "3f3a7a23fbd7f021"
  }
 ],
 "metadata": {
  "kernelspec": {
   "display_name": "Python 3",
   "language": "python",
   "name": "python3"
  },
  "language_info": {
   "codemirror_mode": {
    "name": "ipython",
    "version": 2
   },
   "file_extension": ".py",
   "mimetype": "text/x-python",
   "name": "python",
   "nbconvert_exporter": "python",
   "pygments_lexer": "ipython2",
   "version": "2.7.6"
  }
 },
 "nbformat": 4,
 "nbformat_minor": 5
}
